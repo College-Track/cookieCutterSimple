{
 "cells": [
  {
   "cell_type": "markdown",
   "metadata": {},
   "source": [
    "## {{cookiecutter.project_name}}\n",
    "\n",
    "{{cookiecutter.description}}\n",
    "\n",
    "### Data Sources\n",
    "- file1 : Link to SF Report\n",
    "- file2:  Link to SF Report (As Needed)\n",
    "- file3:  Link to SF Report (As Needed)\n",
    "\n",
    "### Changes\n",
    "- {% now 'utc', '%m-%d-%Y' %} : Started project"
   ]
  },
  {
   "cell_type": "code",
   "execution_count": null,
   "metadata": {},
   "outputs": [],
   "source": [
    "# General Setup \n",
    "%load_ext dotenv\n",
    "%dotenv\n",
    "from salesforce_reporting import Connection, ReportParser\n",
    "import pandas as pd\n",
    "from pathlib import Path\n",
    "from datetime import datetime\n",
    "import helpers\n",
    "import os\n",
    "\n",
    "SF_PASS = os.environ.get(\"SF_PASS\")\n",
    "SF_TOKEN = os.environ.get(\"SF_TOKEN\")\n",
    "SF_USERNAME = os.environ.get(\"SF_USERNAME\")\n",
    "\n",
    "sf = Connection(username=SF_USERNAME, password=SF_PASS, security_token=SF_TOKEN)"
   ]
  },
  {
   "cell_type": "markdown",
   "metadata": {},
   "source": [
    "### File Locations"
   ]
  },
  {
   "cell_type": "code",
   "execution_count": null,
   "metadata": {},
   "outputs": [],
   "source": [
    "today = datetime.today()\n",
    "in_file1 = Path.cwd() / \"data\" / \"raw\" / \"sf_output_file1.csv\"\n",
    "# in_file2 = Path.cwd() / \"data\" / \"raw\" / \"sf_output_file3.csv\"\n",
    "# in_file3 = Path.cwd() / \"data\" / \"raw\" / \"sf_output_file3.csv\"\n",
    "\n",
    "summary_file = Path.cwd() / \"data\" / \"processed\" / \"processed_data.pkl\""
   ]
  },
  {
   "cell_type": "markdown",
   "metadata": {},
   "source": [
    "### Load Report From Salesforce"
   ]
  },
  {
   "cell_type": "code",
   "execution_count": null,
   "metadata": {},
   "outputs": [],
   "source": [
    "# File 1 \n",
    "report_id_file1 = \"SF_REPORT_ID\"\n",
    "sf_df = helpers.load_report(report_id_file1, sf)\n",
    "\n",
    "# File 2 and 3 (As needed)\n",
    "# report_id_file2 = \"SF_REPORT_ID\"\n",
    "# report_id_file3 = \"SF_REPORT_ID\"\n",
    "# sf_df = helpers.load_report(report_id_file2, sf)\n",
    "# sf_df = helpers.load_report(report_id_file3, sf)"
   ]
  },
  {
   "cell_type": "markdown",
   "metadata": {},
   "source": [
    "#### Save report as CSV"
   ]
  },
  {
   "cell_type": "code",
   "execution_count": null,
   "metadata": {},
   "outputs": [],
   "source": [
    "# File 1\n",
    "sf_df.to_csv(in_file1, index=False)\n",
    "\n",
    "\n",
    "# File 2 and 3 (As needed)\n",
    "# sf_df.to_csv(in_file2, index=False)\n",
    "# sf_df.to_csv(in_file3, index=False)\n"
   ]
  },
  {
   "cell_type": "markdown",
   "metadata": {},
   "source": [
    "### Load DF from saved CSV\n",
    "* Start here if CSV already exist "
   ]
  },
  {
   "cell_type": "code",
   "execution_count": null,
   "metadata": {},
   "outputs": [],
   "source": [
    "# Data Frame for File 1 - if using more than one file, rename df to df_file1\n",
    "df = pd.read_csv(in_file1)\n",
    "\n",
    "\n",
    "# Data Frames for File 1 and 2 (As needed)\n",
    "\n",
    "# df_file2 = pd.read_csv(in_file2)\n",
    "# df_file3 = pd.read_csv(in_file3)"
   ]
  },
  {
   "cell_type": "markdown",
   "metadata": {},
   "source": [
    "### Data Manipulation"
   ]
  },
  {
   "cell_type": "code",
   "execution_count": null,
   "metadata": {},
   "outputs": [],
   "source": []
  },
  {
   "cell_type": "markdown",
   "metadata": {},
   "source": [
    "### Save output file into processed directory\n",
    "\n",
    "Save a file in the processed directory that is cleaned properly. It will be read in and used later for further analysis."
   ]
  },
  {
   "cell_type": "code",
   "execution_count": null,
   "metadata": {},
   "outputs": [],
   "source": [
    "# Save File 1 Data Frame (Or master df)\n",
    "df.to_pickle(summary_file)"
   ]
  }
 ],
 "metadata": {
  "hide_input": false,
  "kernelspec": {
   "display_name": "Python 3",
   "language": "python",
   "name": "python3"
  },
  "toc": {
   "base_numbering": 1,
   "nav_menu": {},
   "number_sections": true,
   "sideBar": true,
   "skip_h1_title": false,
   "title_cell": "Table of Contents",
   "title_sidebar": "Contents",
   "toc_cell": false,
   "toc_position": {},
   "toc_section_display": true,
   "toc_window_display": false
  }
 },
 "nbformat": 4,
 "nbformat_minor": 1
}
